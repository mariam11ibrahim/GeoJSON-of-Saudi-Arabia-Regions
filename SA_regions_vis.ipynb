{
 "cells": [
  {
   "cell_type": "code",
   "execution_count": 1,
   "metadata": {
    "button": false,
    "new_sheet": false,
    "run_control": {
     "read_only": false
    }
   },
   "outputs": [],
   "source": [
    "import folium\n",
    "import pandas as pd"
   ]
  },
  {
   "cell_type": "code",
   "execution_count": 2,
   "metadata": {
    "button": false,
    "new_sheet": false,
    "run_control": {
     "read_only": false
    }
   },
   "outputs": [],
   "source": [
    "SA_geo = r'SA_regions.json' \n",
    "\n",
    "SA_map = folium.Map(location=[23,45], zoom_start=5)"
   ]
  },
  {
   "cell_type": "code",
   "execution_count": 3,
   "metadata": {},
   "outputs": [
    {
     "data": {
      "text/html": [
       "<div>\n",
       "<style scoped>\n",
       "    .dataframe tbody tr th:only-of-type {\n",
       "        vertical-align: middle;\n",
       "    }\n",
       "\n",
       "    .dataframe tbody tr th {\n",
       "        vertical-align: top;\n",
       "    }\n",
       "\n",
       "    .dataframe thead th {\n",
       "        text-align: right;\n",
       "    }\n",
       "</style>\n",
       "<table border=\"1\" class=\"dataframe\">\n",
       "  <thead>\n",
       "    <tr style=\"text-align: right;\">\n",
       "      <th></th>\n",
       "      <th>Region</th>\n",
       "      <th>2003</th>\n",
       "      <th>2002</th>\n",
       "      <th>2001</th>\n",
       "    </tr>\n",
       "  </thead>\n",
       "  <tbody>\n",
       "    <tr>\n",
       "      <th>0</th>\n",
       "      <td>Riyadh</td>\n",
       "      <td>366769.0</td>\n",
       "      <td>422882.0</td>\n",
       "      <td>392459.0</td>\n",
       "    </tr>\n",
       "    <tr>\n",
       "      <th>1</th>\n",
       "      <td>Makkah</td>\n",
       "      <td>285647.0</td>\n",
       "      <td>246865.0</td>\n",
       "      <td>253335.0</td>\n",
       "    </tr>\n",
       "    <tr>\n",
       "      <th>2</th>\n",
       "      <td>Madinah</td>\n",
       "      <td>267826.0</td>\n",
       "      <td>239032.0</td>\n",
       "      <td>205698.0</td>\n",
       "    </tr>\n",
       "    <tr>\n",
       "      <th>3</th>\n",
       "      <td>Qassim</td>\n",
       "      <td>165556.0</td>\n",
       "      <td>169599.0</td>\n",
       "      <td>118732.0</td>\n",
       "    </tr>\n",
       "    <tr>\n",
       "      <th>4</th>\n",
       "      <td>Eastern Region</td>\n",
       "      <td>83441.0</td>\n",
       "      <td>84432.0</td>\n",
       "      <td>53778.0</td>\n",
       "    </tr>\n",
       "  </tbody>\n",
       "</table>\n",
       "</div>"
      ],
      "text/plain": [
       "           Region      2003      2002      2001\n",
       "0          Riyadh  366769.0  422882.0  392459.0\n",
       "1          Makkah  285647.0  246865.0  253335.0\n",
       "2         Madinah  267826.0  239032.0  205698.0\n",
       "3          Qassim  165556.0  169599.0  118732.0\n",
       "4  Eastern Region   83441.0   84432.0   53778.0"
      ]
     },
     "execution_count": 3,
     "metadata": {},
     "output_type": "execute_result"
    }
   ],
   "source": [
    "data = pd.read_csv('goats.csv')\n",
    "data.head()"
   ]
  },
  {
   "cell_type": "code",
   "execution_count": null,
   "metadata": {},
   "outputs": [],
   "source": [
    "bins = list(data['2001'].quantile([0, 0.25, 0.5, 0.75, 1]))\n",
    "\n",
    "folium.Choropleth(\n",
    "    geo_data=SA_geo,\n",
    "    name='choropleth',\n",
    "    data=data,\n",
    "    columns=['Region', '2001'],\n",
    "    key_on='feature.properties.name',\n",
    "    fill_color='YlGn',\n",
    "    fill_opacity=0.7,\n",
    "    line_opacity=0.3, \n",
    "    legend_name='Estimated Number of Goats in 2001',\n",
    "    bins=bins,\n",
    "    reset=True\n",
    ").add_to(SA_map)\n",
    "\n",
    "folium.LayerControl().add_to(SA_map)\n",
    "\n",
    "SA_map"
   ]
  },
  {
   "cell_type": "code",
   "execution_count": null,
   "metadata": {},
   "outputs": [],
   "source": []
  }
 ],
 "metadata": {
  "kernelspec": {
   "display_name": "Python 3",
   "language": "python",
   "name": "python3"
  },
  "language_info": {
   "codemirror_mode": {
    "name": "ipython",
    "version": 3
   },
   "file_extension": ".py",
   "mimetype": "text/x-python",
   "name": "python",
   "nbconvert_exporter": "python",
   "pygments_lexer": "ipython3",
   "version": "3.7.7"
  },
  "widgets": {
   "state": {},
   "version": "1.1.2"
  }
 },
 "nbformat": 4,
 "nbformat_minor": 2
}
